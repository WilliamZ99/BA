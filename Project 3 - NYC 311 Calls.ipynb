{
 "cells": [
  {
   "cell_type": "code",
   "execution_count": 2,
   "id": "14951bda-8e24-4d4d-8889-f9f859672762",
   "metadata": {
    "tags": []
   },
   "outputs": [],
   "source": [
    "import pandas as pd \n",
    "df = pd.read_pickle('shared/Project-3_NYC_311_Calls.pkl')"
   ]
  },
  {
   "cell_type": "code",
   "execution_count": 3,
   "id": "1e218c0a-66a0-491c-89b6-f13f7d267a8e",
   "metadata": {
    "tags": []
   },
   "outputs": [],
   "source": [
    "df = df.set_index(pd.DatetimeIndex(df['Created Date']))\n",
    "del df['Created Date']"
   ]
  },
  {
   "cell_type": "code",
   "execution_count": 5,
   "id": "cb61f52b-77ac-4ff7-a556-59efd783aec6",
   "metadata": {
    "tags": []
   },
   "outputs": [],
   "source": [
    "df_2022 = df.loc['2022']"
   ]
  },
  {
   "cell_type": "code",
   "execution_count": 6,
   "id": "f7a00f46-8f6d-4339-9731-43b24c63692f",
   "metadata": {
    "tags": []
   },
   "outputs": [],
   "source": [
    "daily_complaints = df_2022['Unique Key'].resample('D').count()\n"
   ]
  },
  {
   "cell_type": "code",
   "execution_count": 8,
   "id": "1013e62a-7fbb-430c-ac83-10cc68a82c44",
   "metadata": {
    "tags": []
   },
   "outputs": [
    {
     "name": "stdout",
     "output_type": "stream",
     "text": [
      "8684.320547945206\n"
     ]
    }
   ],
   "source": [
    "#Q1\n",
    "\n",
    "average_daily_complaints = daily_complaints.mean()\n",
    "print(average_daily_complaints)"
   ]
  },
  {
   "cell_type": "code",
   "execution_count": 9,
   "id": "f73ac638-6200-4ea6-9954-0a09c5b6b366",
   "metadata": {
    "tags": []
   },
   "outputs": [],
   "source": [
    "#Q2\n",
    "\n",
    "daily_calls = df['Unique Key'].resample('D').count()"
   ]
  },
  {
   "cell_type": "code",
   "execution_count": 10,
   "id": "1bc1308b-c355-4eb6-862a-3ac63d38aa31",
   "metadata": {
    "tags": []
   },
   "outputs": [
    {
     "name": "stdout",
     "output_type": "stream",
     "text": [
      "2020-08-04 00:00:00\n"
     ]
    }
   ],
   "source": [
    "max_calls_date = daily_calls.idxmax()\n",
    "print(max_calls_date)"
   ]
  },
  {
   "cell_type": "code",
   "execution_count": 11,
   "id": "a395c1ad-23e4-403d-a551-68381945290f",
   "metadata": {
    "tags": []
   },
   "outputs": [
    {
     "name": "stdout",
     "output_type": "stream",
     "text": [
      "Complaint Type\n",
      "Damaged Tree                           14863\n",
      "Noise - Residential                      982\n",
      "Request Large Bulky Item Collection      909\n",
      "Street Light Condition                   617\n",
      "Overgrown Tree/Branches                  609\n",
      "                                       ...  \n",
      "Bus Stop Shelter Placement                 1\n",
      "Unsanitary Pigeon Condition                1\n",
      "Public Payphone Complaint                  1\n",
      "For Hire Vehicle Report                    1\n",
      "Bridge Condition                           1\n",
      "Name: count, Length: 125, dtype: int64\n"
     ]
    }
   ],
   "source": [
    "#Q3\n",
    "\n",
    "df_max_date = df.loc['2020-08-04']\n",
    "complaint_counts = df_max_date['Complaint Type'].value_counts()\n",
    "print(complaint_counts)"
   ]
  },
  {
   "cell_type": "code",
   "execution_count": 12,
   "id": "d22c09d3-3678-406c-8d8e-60bce4e7ca62",
   "metadata": {
    "tags": []
   },
   "outputs": [],
   "source": [
    "#Q4\n",
    "\n",
    "monthly_calls = df['Unique Key'].resample('M').count()"
   ]
  },
  {
   "cell_type": "code",
   "execution_count": 13,
   "id": "550940dd-5e88-4832-a739-a5153ab9afd8",
   "metadata": {
    "tags": []
   },
   "outputs": [],
   "source": [
    "monthly_average_calls = monthly_calls.groupby(monthly_calls.index.month).mean()"
   ]
  },
  {
   "cell_type": "code",
   "execution_count": 14,
   "id": "56b28ba7-2ecb-4799-a634-ef177ff8493a",
   "metadata": {
    "tags": []
   },
   "outputs": [
    {
     "name": "stdout",
     "output_type": "stream",
     "text": [
      "2\n"
     ]
    }
   ],
   "source": [
    "quietest_month = monthly_average_calls.idxmin()\n",
    "print(quietest_month)"
   ]
  },
  {
   "cell_type": "code",
   "execution_count": 22,
   "id": "65a7e55f-2b99-4e4c-a117-7c3ad9f84d88",
   "metadata": {
    "tags": []
   },
   "outputs": [],
   "source": [
    "#Q5\n",
    "\n",
    "from statsmodels.tsa.seasonal import seasonal_decompose\n",
    "decomposition = seasonal_decompose(daily_calls, model='additive')"
   ]
  },
  {
   "cell_type": "code",
   "execution_count": 23,
   "id": "fd824f66-ac2b-46c4-84fd-933d3fe291fb",
   "metadata": {
    "tags": []
   },
   "outputs": [],
   "source": [
    "seasonal_component = decomposition.seasonal"
   ]
  },
  {
   "cell_type": "code",
   "execution_count": 24,
   "id": "b607e80c-544b-43a0-8794-8cbf2a8e24ab",
   "metadata": {
    "tags": []
   },
   "outputs": [
    {
     "name": "stdout",
     "output_type": "stream",
     "text": [
      "183\n"
     ]
    }
   ],
   "source": [
    "seasonal_value = round(seasonal_component['2020-12-25'])\n",
    "print(seasonal_value)"
   ]
  },
  {
   "cell_type": "code",
   "execution_count": 25,
   "id": "9b1e84dc-c189-4d90-b420-6e5300ef1d9f",
   "metadata": {
    "tags": []
   },
   "outputs": [
    {
     "name": "stdout",
     "output_type": "stream",
     "text": [
      "0.7517059728398577\n"
     ]
    }
   ],
   "source": [
    "#Q6\n",
    "\n",
    "autocorrelation_lag_1 = daily_calls.autocorr(lag=1)\n",
    "print(autocorrelation_lag_1)"
   ]
  },
  {
   "cell_type": "code",
   "execution_count": 29,
   "id": "65fa9ef3-4e38-416e-9095-a240d4b474f0",
   "metadata": {
    "tags": []
   },
   "outputs": [
    {
     "name": "stdout",
     "output_type": "stream",
     "text": [
      "Defaulting to user installation because normal site-packages is not writeable\n",
      "Requirement already satisfied: prophet in /opt/conda/envs/mggy8413/lib/python3.10/site-packages (1.1.4)\n",
      "Requirement already satisfied: cmdstanpy>=1.0.4 in /opt/conda/envs/mggy8413/lib/python3.10/site-packages (from prophet) (1.1.0)\n",
      "Requirement already satisfied: numpy>=1.15.4 in /opt/conda/envs/mggy8413/lib/python3.10/site-packages (from prophet) (1.23.5)\n",
      "Requirement already satisfied: matplotlib>=2.0.0 in /opt/conda/envs/mggy8413/lib/python3.10/site-packages (from prophet) (3.7.2)\n",
      "Requirement already satisfied: pandas>=1.0.4 in /opt/conda/envs/mggy8413/lib/python3.10/site-packages (from prophet) (2.0.3)\n",
      "Requirement already satisfied: LunarCalendar>=0.0.9 in /opt/conda/envs/mggy8413/lib/python3.10/site-packages (from prophet) (0.0.9)\n",
      "Requirement already satisfied: convertdate>=2.1.2 in /opt/conda/envs/mggy8413/lib/python3.10/site-packages (from prophet) (2.4.0)\n",
      "Requirement already satisfied: holidays>=0.25 in /opt/conda/envs/mggy8413/lib/python3.10/site-packages (from prophet) (0.30)\n",
      "Requirement already satisfied: python-dateutil>=2.8.0 in /opt/conda/envs/mggy8413/lib/python3.10/site-packages (from prophet) (2.8.2)\n",
      "Requirement already satisfied: tqdm>=4.36.1 in /opt/conda/envs/mggy8413/lib/python3.10/site-packages (from prophet) (4.66.1)\n",
      "Requirement already satisfied: importlib-resources in /opt/conda/envs/mggy8413/lib/python3.10/site-packages (from prophet) (6.0.1)\n",
      "Requirement already satisfied: pymeeus<=1,>=0.3.13 in /opt/conda/envs/mggy8413/lib/python3.10/site-packages (from convertdate>=2.1.2->prophet) (0.5.12)\n",
      "Requirement already satisfied: ephem>=3.7.5.3 in /opt/conda/envs/mggy8413/lib/python3.10/site-packages (from LunarCalendar>=0.0.9->prophet) (4.1.4)\n",
      "Requirement already satisfied: pytz in /opt/conda/envs/mggy8413/lib/python3.10/site-packages (from LunarCalendar>=0.0.9->prophet) (2023.3)\n",
      "Requirement already satisfied: contourpy>=1.0.1 in /opt/conda/envs/mggy8413/lib/python3.10/site-packages (from matplotlib>=2.0.0->prophet) (1.1.0)\n",
      "Requirement already satisfied: cycler>=0.10 in /opt/conda/envs/mggy8413/lib/python3.10/site-packages (from matplotlib>=2.0.0->prophet) (0.11.0)\n",
      "Requirement already satisfied: fonttools>=4.22.0 in /opt/conda/envs/mggy8413/lib/python3.10/site-packages (from matplotlib>=2.0.0->prophet) (4.42.0)\n",
      "Requirement already satisfied: kiwisolver>=1.0.1 in /opt/conda/envs/mggy8413/lib/python3.10/site-packages (from matplotlib>=2.0.0->prophet) (1.4.4)\n",
      "Requirement already satisfied: packaging>=20.0 in /opt/conda/envs/mggy8413/lib/python3.10/site-packages (from matplotlib>=2.0.0->prophet) (23.1)\n",
      "Requirement already satisfied: pillow>=6.2.0 in /opt/conda/envs/mggy8413/lib/python3.10/site-packages (from matplotlib>=2.0.0->prophet) (10.0.0)\n",
      "Requirement already satisfied: pyparsing<3.1,>=2.3.1 in /opt/conda/envs/mggy8413/lib/python3.10/site-packages (from matplotlib>=2.0.0->prophet) (3.0.9)\n",
      "Requirement already satisfied: tzdata>=2022.1 in /opt/conda/envs/mggy8413/lib/python3.10/site-packages (from pandas>=1.0.4->prophet) (2023.3)\n",
      "Requirement already satisfied: six>=1.5 in /opt/conda/envs/mggy8413/lib/python3.10/site-packages (from python-dateutil>=2.8.0->prophet) (1.16.0)\n",
      "Note: you may need to restart the kernel to use updated packages.\n"
     ]
    }
   ],
   "source": [
    "pip install prophet\n"
   ]
  },
  {
   "cell_type": "code",
   "execution_count": 38,
   "id": "d0d4a12a-77ae-4025-af3a-c4551f251970",
   "metadata": {
    "tags": []
   },
   "outputs": [],
   "source": [
    "from prophet import Prophet"
   ]
  },
  {
   "cell_type": "code",
   "execution_count": 39,
   "id": "8466780b-853d-4dbe-9015-a6df7f69d5e4",
   "metadata": {
    "tags": []
   },
   "outputs": [],
   "source": [
    "#Q7\n",
    "\n",
    "df_prophet = daily_calls.reset_index().rename(columns={'index': 'ds', 'Unique Key': 'y'})\n"
   ]
  },
  {
   "cell_type": "code",
   "execution_count": 40,
   "id": "b3f3ebce-8258-40ec-b6a0-c81ed4da5821",
   "metadata": {
    "tags": []
   },
   "outputs": [],
   "source": [
    "train = df_prophet.iloc[:-90]\n",
    "test = df_prophet.iloc[-90:]"
   ]
  },
  {
   "cell_type": "code",
   "execution_count": 45,
   "id": "a853c56d-c7f4-485f-83a2-00f46a922c29",
   "metadata": {
    "tags": []
   },
   "outputs": [],
   "source": [
    "train = train.rename(columns={'Created Date': 'ds'})"
   ]
  },
  {
   "cell_type": "code",
   "execution_count": 46,
   "id": "8de5ae49-9a64-4af3-bff6-2a1323f1aef7",
   "metadata": {
    "tags": []
   },
   "outputs": [
    {
     "name": "stderr",
     "output_type": "stream",
     "text": [
      "14:45:45 - cmdstanpy - INFO - Chain [1] start processing\n",
      "14:45:46 - cmdstanpy - INFO - Chain [1] done processing\n"
     ]
    },
    {
     "data": {
      "text/plain": [
       "<prophet.forecaster.Prophet at 0x7f417649d270>"
      ]
     },
     "execution_count": 46,
     "metadata": {},
     "output_type": "execute_result"
    }
   ],
   "source": [
    "model = Prophet()\n",
    "model.fit(train)"
   ]
  },
  {
   "cell_type": "code",
   "execution_count": 48,
   "id": "73fb1034-e081-4610-9228-0b50978e3acc",
   "metadata": {
    "tags": []
   },
   "outputs": [],
   "source": [
    "future = model.make_future_dataframe(periods=90)\n",
    "forecast = model.predict(future)"
   ]
  },
  {
   "cell_type": "code",
   "execution_count": 49,
   "id": "75343667-0e09-4a67-a430-54ef0ad35784",
   "metadata": {
    "tags": []
   },
   "outputs": [
    {
     "name": "stdout",
     "output_type": "stream",
     "text": [
      "1231.513760758433\n"
     ]
    }
   ],
   "source": [
    "from sklearn.metrics import mean_squared_error\n",
    "from math import sqrt\n",
    "rmse = sqrt(mean_squared_error(test['y'], forecast['yhat'].iloc[-90:]))\n",
    "print(rmse)"
   ]
  },
  {
   "cell_type": "code",
   "execution_count": null,
   "id": "7f2ed063-5fb4-407c-8a31-4c9783cb70fa",
   "metadata": {},
   "outputs": [],
   "source": []
  }
 ],
 "metadata": {
  "kernelspec": {
   "display_name": "Python [conda env:mggy8413]",
   "language": "python",
   "name": "conda-env-mggy8413-py"
  },
  "language_info": {
   "codemirror_mode": {
    "name": "ipython",
    "version": 3
   },
   "file_extension": ".py",
   "mimetype": "text/x-python",
   "name": "python",
   "nbconvert_exporter": "python",
   "pygments_lexer": "ipython3",
   "version": "3.10.12"
  }
 },
 "nbformat": 4,
 "nbformat_minor": 5
}
