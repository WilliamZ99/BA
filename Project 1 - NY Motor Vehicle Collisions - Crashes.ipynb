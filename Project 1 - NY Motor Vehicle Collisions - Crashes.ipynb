{
 "cells": [
  {
   "cell_type": "code",
   "execution_count": 18,
   "id": "b849404f-a090-4ec3-823e-e50a72505cab",
   "metadata": {
    "tags": []
   },
   "outputs": [],
   "source": [
    "import pandas as pd "
   ]
  },
  {
   "cell_type": "code",
   "execution_count": 19,
   "id": "3b5c299c-1834-4be8-af1a-847b47c1591f",
   "metadata": {
    "tags": []
   },
   "outputs": [],
   "source": [
    "df = pd.read_pickle(r\"shared/Motor_Vehicle_Collisions_-_Crashes.pkl\")"
   ]
  },
  {
   "cell_type": "code",
   "execution_count": 20,
   "id": "fb1d04c2-ce4a-4802-b528-29e0fb693146",
   "metadata": {
    "tags": []
   },
   "outputs": [
    {
     "name": "stdout",
     "output_type": "stream",
     "text": [
      "BROOKLYN\n"
     ]
    }
   ],
   "source": [
    "#Q1\n",
    "# Group and count crashes by borough, then find the borough with the most crashes.\n",
    "\n",
    "borough_crash_counts = df.groupby('BOROUGH')['COLLISION_ID'].count()\n",
    "max_crash_borough = borough_crash_counts.idxmax()\n",
    "\n",
    "print(max_crash_borough)"
   ]
  },
  {
   "cell_type": "code",
   "execution_count": 21,
   "id": "af49e25c-3d7c-40c7-87e9-b749dbdbb25f",
   "metadata": {
    "tags": []
   },
   "outputs": [
    {
     "name": "stdout",
     "output_type": "stream",
     "text": [
      "nan\n",
      "nan\n"
     ]
    }
   ],
   "source": [
    "#Q2\n",
    "# Given population for each borough, calculate crashes per 100k, and find the borough with the most crashes per 100k.\n",
    "populations = {'Bronx': 1446788, 'Brooklyn': 2648452, 'Manhattan': 1638281, 'Queens': 2330295, 'Staten Island': 487155}\n",
    "\n",
    "# Calculate crashes per 100k population for each borough and find the borough with the highest rate\n",
    "crashes_per_100k = borough_crash_counts / (pd.Series(populations) / 100000)\n",
    "max_crashes_per_100k_borough = crashes_per_100k.idxmax()\n",
    "max_crashes_per_100k_value = crashes_per_100k.max()\n",
    "\n",
    "print(max_crashes_per_100k_borough)\n",
    "print(max_crashes_per_100k_value)"
   ]
  },
  {
   "cell_type": "code",
   "execution_count": 22,
   "id": "4a432124-e949-4360-ac40-ffcc33af8b40",
   "metadata": {
    "tags": []
   },
   "outputs": [
    {
     "name": "stdout",
     "output_type": "stream",
     "text": [
      "Driver Inattention/Distraction\n",
      "30.417970209853078\n"
     ]
    }
   ],
   "source": [
    "#Q3\n",
    "# Exclude 'Unspecified' causes, count occurrences of each cause, find the most common cause, and calculate its proportion.\n",
    "specified_factors = df[df['CONTRIBUTING FACTOR VEHICLE 1'] != 'Unspecified']\n",
    "factor_counts = specified_factors['CONTRIBUTING FACTOR VEHICLE 1'].value_counts(normalize=True) * 100\n",
    "\n",
    "leading_cause = factor_counts.idxmax()\n",
    "leading_cause_proportion = factor_counts.max()\n",
    "\n",
    "print(leading_cause)\n",
    "print(leading_cause_proportion)"
   ]
  },
  {
   "cell_type": "code",
   "execution_count": 23,
   "id": "10d7250f-e496-4e89-a559-02948222129d",
   "metadata": {
    "tags": []
   },
   "outputs": [
    {
     "name": "stdout",
     "output_type": "stream",
     "text": [
      "47.59805664357876\n"
     ]
    }
   ],
   "source": [
    "#Q4\n",
    "# Calculate the proportion of total crashes attributable to the top 3 causes of crashes (ignoring 'Unspecified').\n",
    "top_3_causes_proportion = factor_counts.head(3).sum()\n",
    "\n",
    "print(top_3_causes_proportion)"
   ]
  },
  {
   "cell_type": "code",
   "execution_count": 24,
   "id": "84837593-6481-4a3d-a69d-b3145aeb8dcd",
   "metadata": {
    "tags": []
   },
   "outputs": [
    {
     "name": "stdout",
     "output_type": "stream",
     "text": [
      "2804\n"
     ]
    }
   ],
   "source": [
    "#Q5\n",
    "# Count the number of crashes where at least one person was killed.\n",
    "\n",
    "fatal_crashes_count = len(df[df['NUMBER OF PERSONS KILLED'] > 0])\n",
    "\n",
    "print(fatal_crashes_count)"
   ]
  },
  {
   "cell_type": "code",
   "execution_count": 25,
   "id": "11be5940-020e-4474-b173-058a8d4223f1",
   "metadata": {
    "tags": []
   },
   "outputs": [
    {
     "name": "stdout",
     "output_type": "stream",
     "text": [
      "1.3893258747079764\n"
     ]
    }
   ],
   "source": [
    "#Q6\n",
    "# Calculate the average number of fatal crashes per 1000 crashes.\n",
    "\n",
    "average_fatal_per_1000 = (fatal_crashes_count / len(df)) * 1000\n",
    "\n",
    "print(average_fatal_per_1000)"
   ]
  },
  {
   "cell_type": "code",
   "execution_count": 26,
   "id": "763008db-a5f7-4706-819f-04aa75992209",
   "metadata": {
    "tags": []
   },
   "outputs": [
    {
     "name": "stdout",
     "output_type": "stream",
     "text": [
      "31.10890897784957\n"
     ]
    }
   ],
   "source": [
    "#Q7\n",
    "# Calculate the proportion of crashes with a missing Borough code.\n",
    "\n",
    "missing_borough_proportion = (len(df[df['BOROUGH'].isnull()]) / len(df)) * 100\n",
    "\n",
    "print(missing_borough_proportion)"
   ]
  },
  {
   "cell_type": "code",
   "execution_count": 27,
   "id": "4498d4f2-3910-442a-8e1a-d40a59b1214b",
   "metadata": {
    "tags": []
   },
   "outputs": [
    {
     "name": "stdout",
     "output_type": "stream",
     "text": [
      "('Sedan', 'Sedan')\n"
     ]
    }
   ],
   "source": [
    "#Q8\n",
    "# Group by vehicle type combinations, count occurrences, and find the most common combination.\n",
    "\n",
    "vehicle_combinations = df.groupby(['VEHICLE TYPE CODE 1', 'VEHICLE TYPE CODE 2']).size()\n",
    "most_common_combination = vehicle_combinations.idxmax()\n",
    "\n",
    "print(most_common_combination)"
   ]
  },
  {
   "cell_type": "code",
   "execution_count": null,
   "id": "25ea2467-1bac-4958-9d04-0603bbe2bd42",
   "metadata": {},
   "outputs": [],
   "source": []
  }
 ],
 "metadata": {
  "kernelspec": {
   "display_name": "Python [conda env:mggy8413]",
   "language": "python",
   "name": "conda-env-mggy8413-py"
  },
  "language_info": {
   "codemirror_mode": {
    "name": "ipython",
    "version": 3
   },
   "file_extension": ".py",
   "mimetype": "text/x-python",
   "name": "python",
   "nbconvert_exporter": "python",
   "pygments_lexer": "ipython3",
   "version": "3.10.12"
  }
 },
 "nbformat": 4,
 "nbformat_minor": 5
}
